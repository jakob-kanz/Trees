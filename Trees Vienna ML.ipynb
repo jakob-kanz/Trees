{
 "cells": [
  {
   "cell_type": "markdown",
   "metadata": {},
   "source": [
    "# Predicting Trees with a Random Forest"
   ]
  },
  {
   "cell_type": "markdown",
   "metadata": {},
   "source": [
    "## 1 Introduction"
   ]
  },
  {
   "cell_type": "markdown",
   "metadata": {},
   "source": [
    "### 1.A Aims and Objectives\n",
    "\n",
    "The aim of this project is to apply a machine learning model capable of predicting the species of trees in Vienna, when given certain characteristics as input. The data for this project stems from the City of Vienna, which records information about more than 200.000 trees located within the city. These data include physical characteristics, such as tree trunk circumference, tree height, treetop diameter, as well as the year of planting and the city district in which the tree is located.\n",
    "\n",
    "After preprocessing and cleaning the data, I will fit a random forest classifier to 80% of the data, in order to train our model. Afterwards, I will test the model's performance on the remaining 20%. Below is a brief overview of the different sections of this project."
   ]
  },
  {
   "cell_type": "markdown",
   "metadata": {},
   "source": [
    "### 1.B Sections of this project report\n",
    "\n",
    "1. Introduction\n",
    "    1. Aims and Objectives\n",
    "    2. Sections of this project report\n",
    "2. The Data\n",
    "    1. Data Source\n",
    "    2. Data Cleaning\n",
    "3. Random Forest Classification\n",
    "4. Conclusion and Limitations"
   ]
  },
  {
   "cell_type": "code",
   "execution_count": 100,
   "metadata": {},
   "outputs": [],
   "source": [
    "import pandas as pd\n",
    "import matplotlib.pyplot as plt\n",
    "import numpy as np\n",
    "from sklearn.model_selection import train_test_split\n",
    "from sklearn.ensemble import RandomForestClassifier\n",
    "from sklearn.metrics import f1_score, accuracy_score"
   ]
  },
  {
   "cell_type": "markdown",
   "metadata": {},
   "source": [
    "## 2 The Data"
   ]
  },
  {
   "cell_type": "markdown",
   "metadata": {},
   "source": [
    "### 2.A Data Source"
   ]
  },
  {
   "cell_type": "markdown",
   "metadata": {},
   "source": [
    "I found this dataset on [Open Data Austria](https://www.data.gv.at/), which lists more than 40.000 open data sets, primarily from Austrian communal or national public institutions. The dataset for this project has been provided by the city of Vienna and was last updated in the spring of 2020. It can be found [here](https://www.data.gv.at/katalog/dataset/stadt-wien_baumkatasterderstadtwien).\n",
    "\n",
    "The dataset lists the location and biological characteristics of more than 200.000 trees in Vienna. This includes all roadside trees as well as some (but not all) trees growing in parks and wooded areas in Vienna.\n",
    "\n",
    "The data is licensed under [CC BY 4.0](https://creativecommons.org/licenses/by/4.0/deed.en), which allows for sharing and adapting of the data, as long as the source is credited."
   ]
  },
  {
   "cell_type": "code",
   "execution_count": 101,
   "metadata": {},
   "outputs": [],
   "source": [
    "# Loading the dataset.\n",
    "data = pd.read_csv(\"/Users/jakobkanz/Dropbox/Python/Datasets/BAUMKATOGD.csv\")"
   ]
  },
  {
   "cell_type": "code",
   "execution_count": 102,
   "metadata": {},
   "outputs": [
    {
     "data": {
      "text/html": [
       "<div>\n",
       "<style scoped>\n",
       "    .dataframe tbody tr th:only-of-type {\n",
       "        vertical-align: middle;\n",
       "    }\n",
       "\n",
       "    .dataframe tbody tr th {\n",
       "        vertical-align: top;\n",
       "    }\n",
       "\n",
       "    .dataframe thead th {\n",
       "        text-align: right;\n",
       "    }\n",
       "</style>\n",
       "<table border=\"1\" class=\"dataframe\">\n",
       "  <thead>\n",
       "    <tr style=\"text-align: right;\">\n",
       "      <th></th>\n",
       "      <th>FID</th>\n",
       "      <th>OBJECTID</th>\n",
       "      <th>SHAPE</th>\n",
       "      <th>BAUM_ID</th>\n",
       "      <th>DATENFUEHRUNG</th>\n",
       "      <th>BEZIRK</th>\n",
       "      <th>OBJEKT_STRASSE</th>\n",
       "      <th>GEBIETSGRUPPE</th>\n",
       "      <th>GATTUNG_ART</th>\n",
       "      <th>PFLANZJAHR</th>\n",
       "      <th>PFLANZJAHR_TXT</th>\n",
       "      <th>STAMMUMFANG</th>\n",
       "      <th>STAMMUMFANG_TXT</th>\n",
       "      <th>BAUMHOEHE</th>\n",
       "      <th>BAUMHOEHE_TXT</th>\n",
       "      <th>KRONENDURCHMESSER</th>\n",
       "      <th>KRONENDURCHMESSER_TXT</th>\n",
       "      <th>BAUMNUMMER</th>\n",
       "      <th>SE_ANNO_CAD_DATA</th>\n",
       "    </tr>\n",
       "  </thead>\n",
       "  <tbody>\n",
       "    <tr>\n",
       "      <th>0</th>\n",
       "      <td>BAUMKATOGD.482058773</td>\n",
       "      <td>482058773</td>\n",
       "      <td>POINT (16.314455985683868 48.23990465927611)</td>\n",
       "      <td>28620</td>\n",
       "      <td>magistrat</td>\n",
       "      <td>18.0</td>\n",
       "      <td>Pötzleinsdorfer Straße</td>\n",
       "      <td>MA 28 - Straße, Grünanlage</td>\n",
       "      <td>Tilia cordata (Winterlinde)</td>\n",
       "      <td>1940</td>\n",
       "      <td>1940</td>\n",
       "      <td>152</td>\n",
       "      <td>152 cm</td>\n",
       "      <td>3</td>\n",
       "      <td>11-15 m</td>\n",
       "      <td>3</td>\n",
       "      <td>7-9 m</td>\n",
       "      <td>1028</td>\n",
       "      <td>NaN</td>\n",
       "    </tr>\n",
       "    <tr>\n",
       "      <th>1</th>\n",
       "      <td>BAUMKATOGD.482058774</td>\n",
       "      <td>482058774</td>\n",
       "      <td>POINT (16.37307077654833 48.216167292881224)</td>\n",
       "      <td>251100</td>\n",
       "      <td>magistrat</td>\n",
       "      <td>1.0</td>\n",
       "      <td>01., Donaukanal Pachtflächen 1. Bezirk, DHK</td>\n",
       "      <td>viadonau - DHK Donaukanal Pachtflächen</td>\n",
       "      <td>Platanus x acerifolia (Ahornblättrige Platane)</td>\n",
       "      <td>2009</td>\n",
       "      <td>2009</td>\n",
       "      <td>48</td>\n",
       "      <td>48 cm</td>\n",
       "      <td>2</td>\n",
       "      <td>6-10 m</td>\n",
       "      <td>1</td>\n",
       "      <td>0-3 m</td>\n",
       "      <td>1050</td>\n",
       "      <td>NaN</td>\n",
       "    </tr>\n",
       "    <tr>\n",
       "      <th>2</th>\n",
       "      <td>BAUMKATOGD.482058775</td>\n",
       "      <td>482058775</td>\n",
       "      <td>POINT (16.28228964539069 48.145860820264765)</td>\n",
       "      <td>220135</td>\n",
       "      <td>magistrat</td>\n",
       "      <td>23.0</td>\n",
       "      <td>23., Fridtjof-Nansen-Park, MA42</td>\n",
       "      <td>MA 42 - Parkanlage</td>\n",
       "      <td>Pinus nigra (Schwarzkiefer, Schwarzföhre)</td>\n",
       "      <td>0</td>\n",
       "      <td>nicht definiert</td>\n",
       "      <td>50</td>\n",
       "      <td>50 cm</td>\n",
       "      <td>2</td>\n",
       "      <td>6-10 m</td>\n",
       "      <td>2</td>\n",
       "      <td>4-6 m</td>\n",
       "      <td>7037</td>\n",
       "      <td>NaN</td>\n",
       "    </tr>\n",
       "    <tr>\n",
       "      <th>3</th>\n",
       "      <td>BAUMKATOGD.482058776</td>\n",
       "      <td>482058776</td>\n",
       "      <td>POINT (16.314090696657324 48.24000873075163)</td>\n",
       "      <td>259236</td>\n",
       "      <td>magistrat</td>\n",
       "      <td>18.0</td>\n",
       "      <td>Pötzleinsdorfer Straße</td>\n",
       "      <td>MA 28 - Straße, Grünanlage</td>\n",
       "      <td>Tilia cordata 'Rancho' (Kleinblättrige Winterl...</td>\n",
       "      <td>2017</td>\n",
       "      <td>2017</td>\n",
       "      <td>30</td>\n",
       "      <td>30 cm</td>\n",
       "      <td>1</td>\n",
       "      <td>0-5 m</td>\n",
       "      <td>1</td>\n",
       "      <td>0-3 m</td>\n",
       "      <td>1031</td>\n",
       "      <td>NaN</td>\n",
       "    </tr>\n",
       "    <tr>\n",
       "      <th>4</th>\n",
       "      <td>BAUMKATOGD.482058777</td>\n",
       "      <td>482058777</td>\n",
       "      <td>POINT (16.31394177964165 48.24005204919185)</td>\n",
       "      <td>131839</td>\n",
       "      <td>magistrat</td>\n",
       "      <td>18.0</td>\n",
       "      <td>Pötzleinsdorfer Straße</td>\n",
       "      <td>MA 28 - Straße, Grünanlage</td>\n",
       "      <td>Tilia cordata (Winterlinde)</td>\n",
       "      <td>1940</td>\n",
       "      <td>1940</td>\n",
       "      <td>142</td>\n",
       "      <td>142 cm</td>\n",
       "      <td>3</td>\n",
       "      <td>11-15 m</td>\n",
       "      <td>2</td>\n",
       "      <td>4-6 m</td>\n",
       "      <td>1032</td>\n",
       "      <td>NaN</td>\n",
       "    </tr>\n",
       "  </tbody>\n",
       "</table>\n",
       "</div>"
      ],
      "text/plain": [
       "                    FID   OBJECTID  \\\n",
       "0  BAUMKATOGD.482058773  482058773   \n",
       "1  BAUMKATOGD.482058774  482058774   \n",
       "2  BAUMKATOGD.482058775  482058775   \n",
       "3  BAUMKATOGD.482058776  482058776   \n",
       "4  BAUMKATOGD.482058777  482058777   \n",
       "\n",
       "                                          SHAPE  BAUM_ID DATENFUEHRUNG  \\\n",
       "0  POINT (16.314455985683868 48.23990465927611)    28620     magistrat   \n",
       "1  POINT (16.37307077654833 48.216167292881224)   251100     magistrat   \n",
       "2  POINT (16.28228964539069 48.145860820264765)   220135     magistrat   \n",
       "3  POINT (16.314090696657324 48.24000873075163)   259236     magistrat   \n",
       "4   POINT (16.31394177964165 48.24005204919185)   131839     magistrat   \n",
       "\n",
       "   BEZIRK                               OBJEKT_STRASSE  \\\n",
       "0    18.0                       Pötzleinsdorfer Straße   \n",
       "1     1.0  01., Donaukanal Pachtflächen 1. Bezirk, DHK   \n",
       "2    23.0              23., Fridtjof-Nansen-Park, MA42   \n",
       "3    18.0                       Pötzleinsdorfer Straße   \n",
       "4    18.0                       Pötzleinsdorfer Straße   \n",
       "\n",
       "                            GEBIETSGRUPPE  \\\n",
       "0              MA 28 - Straße, Grünanlage   \n",
       "1  viadonau - DHK Donaukanal Pachtflächen   \n",
       "2                      MA 42 - Parkanlage   \n",
       "3              MA 28 - Straße, Grünanlage   \n",
       "4              MA 28 - Straße, Grünanlage   \n",
       "\n",
       "                                         GATTUNG_ART  PFLANZJAHR  \\\n",
       "0                        Tilia cordata (Winterlinde)        1940   \n",
       "1     Platanus x acerifolia (Ahornblättrige Platane)        2009   \n",
       "2          Pinus nigra (Schwarzkiefer, Schwarzföhre)           0   \n",
       "3  Tilia cordata 'Rancho' (Kleinblättrige Winterl...        2017   \n",
       "4                        Tilia cordata (Winterlinde)        1940   \n",
       "\n",
       "    PFLANZJAHR_TXT  STAMMUMFANG STAMMUMFANG_TXT  BAUMHOEHE BAUMHOEHE_TXT  \\\n",
       "0             1940          152          152 cm          3       11-15 m   \n",
       "1             2009           48           48 cm          2        6-10 m   \n",
       "2  nicht definiert           50           50 cm          2        6-10 m   \n",
       "3             2017           30           30 cm          1         0-5 m   \n",
       "4             1940          142          142 cm          3       11-15 m   \n",
       "\n",
       "   KRONENDURCHMESSER KRONENDURCHMESSER_TXT BAUMNUMMER  SE_ANNO_CAD_DATA  \n",
       "0                  3                 7-9 m       1028               NaN  \n",
       "1                  1                 0-3 m       1050               NaN  \n",
       "2                  2                 4-6 m       7037               NaN  \n",
       "3                  1                 0-3 m       1031               NaN  \n",
       "4                  2                 4-6 m       1032               NaN  "
      ]
     },
     "execution_count": 102,
     "metadata": {},
     "output_type": "execute_result"
    }
   ],
   "source": [
    "# Initial visual inspection.\n",
    "data.head()"
   ]
  },
  {
   "cell_type": "markdown",
   "metadata": {},
   "source": [
    "### 2.B Data Cleaning"
   ]
  },
  {
   "cell_type": "markdown",
   "metadata": {},
   "source": [
    "For this project, only a subset of columns will be necessary. The dependent variable will be the tree species. The independent variables will include all biological or physical characteristics, which include the circumference of the tree trunk, the height of the tree and the diameter of the tree top. Additionally, I chose to include the year of planting and the district of Vienna in which the tree is located.\n",
    "\n",
    "As a first step, I translate and rename the relevant columns for easier usability. Then, I will inspect each of the columns in turn for missing values and potential irregularities."
   ]
  },
  {
   "cell_type": "code",
   "execution_count": 103,
   "metadata": {},
   "outputs": [],
   "source": [
    "# Renaming and translating the relevant columns from German to English.\n",
    "data = data.rename(columns=\n",
    "          {'BEZIRK': 'district',\n",
    "           'GATTUNG_ART': 'species',\n",
    "           'PFLANZJAHR': 'year',\n",
    "           'STAMMUMFANG': 'trunk',\n",
    "           'BAUMHOEHE': 'height',\n",
    "           'KRONENDURCHMESSER': 'top'\n",
    "          })"
   ]
  },
  {
   "cell_type": "markdown",
   "metadata": {},
   "source": [
    "#### Species"
   ]
  },
  {
   "cell_type": "markdown",
   "metadata": {},
   "source": [
    "The dependent variable, whose value I will attempt to predict in this project, is species. It lists both the latin and german name of each tree species in the dataset. Some observations do not list a species but rather a note that indicates that a young tree will be planted at this location in the city. I drop these observations and convert the variable to the data type 'category'."
   ]
  },
  {
   "cell_type": "code",
   "execution_count": 104,
   "metadata": {},
   "outputs": [],
   "source": [
    "# Drop observations which do not indicate a species.\n",
    "data = data[data['species'] != 'Jungbaum wird gepflanzt']"
   ]
  },
  {
   "cell_type": "code",
   "execution_count": 105,
   "metadata": {},
   "outputs": [],
   "source": [
    "# Convert to category data type.\n",
    "data['species'] = data['species'].astype('category')"
   ]
  },
  {
   "cell_type": "markdown",
   "metadata": {},
   "source": [
    "#### District"
   ]
  },
  {
   "cell_type": "markdown",
   "metadata": {},
   "source": [
    "The column district, which shows in which district of Vienna a given tree is located includes a small amount of missing values (<1% of the data). Manually cross-referencing the location of a subsample of these trees with their coordinates shows that these trees are situated outside the city boundaries in Vienna (not shown below). Given the scope of this project, I exclude these observations. Finally, I convert the data type of this column to 'category', since it contains a fixed (small) number of districts (23)."
   ]
  },
  {
   "cell_type": "code",
   "execution_count": 106,
   "metadata": {},
   "outputs": [
    {
     "data": {
      "text/plain": [
       "555"
      ]
     },
     "execution_count": 106,
     "metadata": {},
     "output_type": "execute_result"
    }
   ],
   "source": [
    "# Checking for missing values.\n",
    "data['district'].isnull().sum()"
   ]
  },
  {
   "cell_type": "code",
   "execution_count": 107,
   "metadata": {},
   "outputs": [],
   "source": [
    "# Dropping missing values, as these trees lie outside the city boundaries.\n",
    "data = data[data['district'].notna()]"
   ]
  },
  {
   "cell_type": "code",
   "execution_count": 108,
   "metadata": {},
   "outputs": [],
   "source": [
    "# Convert data type to integer first, to remove commas. Then convert to category.\n",
    "data['district'] = data['district'].astype('int64')\n",
    "data['district'] = data['district'].astype('category')"
   ]
  },
  {
   "cell_type": "markdown",
   "metadata": {},
   "source": [
    "#### Height, Trunk, Treetop"
   ]
  },
  {
   "cell_type": "markdown",
   "metadata": {},
   "source": [
    "The columns height, trunk (circumference) and top (diameter) each contain a small amount of missing values (less than 1% of the data for each column). Given the fact that these missing values amount to only a small percentage of the data, I decided to drop the observations and proceed."
   ]
  },
  {
   "cell_type": "code",
   "execution_count": 109,
   "metadata": {},
   "outputs": [
    {
     "name": "stdout",
     "output_type": "stream",
     "text": [
      "(720, 19)\n"
     ]
    }
   ],
   "source": [
    "#Checking for missing values (indicated by '0' in this dataset).\n",
    "print(data[data['height'] == 0].shape)\n",
    "# Dropping missing values.\n",
    "data = data[data['height'] != 0]"
   ]
  },
  {
   "cell_type": "code",
   "execution_count": 110,
   "metadata": {},
   "outputs": [
    {
     "name": "stdout",
     "output_type": "stream",
     "text": [
      "(230, 19)\n"
     ]
    }
   ],
   "source": [
    "#Checking for missing values (indicated by '0' in this dataset).\n",
    "print(data[data['top'] == 0].shape)\n",
    "# Dropping missing values.\n",
    "data = data[data['top'] != 0]"
   ]
  },
  {
   "cell_type": "code",
   "execution_count": 111,
   "metadata": {},
   "outputs": [
    {
     "name": "stdout",
     "output_type": "stream",
     "text": [
      "(794, 19)\n"
     ]
    }
   ],
   "source": [
    "#Checking for missing values (indicated by '0' in this dataset).\n",
    "print(data[data['trunk'] == 0].shape)\n",
    "# Dropping missing values.\n",
    "data = data[data['trunk'] != 0]"
   ]
  },
  {
   "cell_type": "markdown",
   "metadata": {},
   "source": [
    "#### Year"
   ]
  },
  {
   "cell_type": "markdown",
   "metadata": {},
   "source": [
    "Inspection of the year column, which shows the year of planting, shows over 62.000 missing values. Given that the entire dataset contains just over 200.000 observations, these missing values cannot be simply dropped. Instead, I proceed to inspect the average characteristics of the subsample of trees with a missing value in the year column.\n",
    "\n",
    "The average values for height, trunk and top are all larger in this subsample than the mean values for those trees with known planting years. I proceed to conduct a rolling window of mean comparisons for each decade from 1900 until 2000. For the columns trunk and height, I find that the average characteristics of the subsample of trees with missing year-values are closest to those trees planted between 1970 and 1979. For the column top, the decade between 1980 and 1989 is a closer fit. Hence, I decide to replace the missing year-values with '1975' as a proxy."
   ]
  },
  {
   "cell_type": "code",
   "execution_count": 112,
   "metadata": {},
   "outputs": [
    {
     "data": {
      "text/plain": [
       "(62615, 19)"
      ]
     },
     "execution_count": 112,
     "metadata": {},
     "output_type": "execute_result"
    }
   ],
   "source": [
    "# Checking for missing values.\n",
    "data[data['year'] == 0].shape"
   ]
  },
  {
   "cell_type": "code",
   "execution_count": 113,
   "metadata": {},
   "outputs": [],
   "source": [
    "# Assigning all trees with year equal to zero to a new variable.\n",
    "zerotree = data[data['year'] == 0]\n",
    "# Assigning all other trees to a new variable.\n",
    "notzerotree = data[data['year'] != 0]"
   ]
  },
  {
   "cell_type": "code",
   "execution_count": 114,
   "metadata": {},
   "outputs": [
    {
     "name": "stdout",
     "output_type": "stream",
     "text": [
      "2.635422822007506\n",
      "2.737771345875543\n",
      "123.2020282679869\n",
      "125.46649782923299\n",
      "2.6502914637067794\n",
      "2.66004792879151\n"
     ]
    }
   ],
   "source": [
    "# Comparing mean values for 'height', 'top', and 'trunk'.\n",
    "print(zerotree['height'].mean())\n",
    "print(notzerotree[(notzerotree['year'] >= 1970) & (notzerotree['year'] < 1980)]['height'].mean())\n",
    "print(zerotree['trunk'].mean())\n",
    "print(notzerotree[(notzerotree['year'] >= 1970) & (notzerotree['year'] < 1980)]['trunk'].mean())\n",
    "print(zerotree['top'].mean())\n",
    "print(notzerotree[(notzerotree['year'] >= 1980) & (notzerotree['year'] < 1990)]['top'].mean())"
   ]
  },
  {
   "cell_type": "code",
   "execution_count": 115,
   "metadata": {},
   "outputs": [],
   "source": [
    "# Replacing missing values with '1975'.\n",
    "data['year'] = data['year'].replace(0, 1975)"
   ]
  },
  {
   "cell_type": "markdown",
   "metadata": {},
   "source": [
    "#### Selecting a species-subset"
   ]
  },
  {
   "cell_type": "markdown",
   "metadata": {},
   "source": [
    "As a final step before moving into the modelling phase, I select a subset of species. This is necessary since several of the over 500 species in the dataset account only for a very small number of observations (<10). Including these would result in a badly trained model.\n",
    "\n",
    "The three most common tree species in the dataset are acer platanoides (Norway maple), aesculus hippocastanum (horse chestnut), and fraxinus excelsior (common ash). Together, these species account for just under 40.000 observations, which amounts to about 20% of the entire dataset."
   ]
  },
  {
   "cell_type": "code",
   "execution_count": 116,
   "metadata": {},
   "outputs": [],
   "source": [
    "# Getting top n most frequent tree species and save to a list.\n",
    "n = 3\n",
    "top_3_trees = data['species'].value_counts()[:n].index.tolist()"
   ]
  },
  {
   "cell_type": "code",
   "execution_count": 117,
   "metadata": {},
   "outputs": [],
   "source": [
    "# Creating new dataframe with just top n trees.\n",
    "data_3 = data.loc[data['species'].isin(top_3_trees)]"
   ]
  },
  {
   "cell_type": "code",
   "execution_count": 118,
   "metadata": {},
   "outputs": [
    {
     "data": {
      "text/plain": [
       "(39683, 19)"
      ]
     },
     "execution_count": 118,
     "metadata": {},
     "output_type": "execute_result"
    }
   ],
   "source": [
    "# Checking number of observations.\n",
    "data_3.shape"
   ]
  },
  {
   "cell_type": "markdown",
   "metadata": {},
   "source": [
    "## 3 Random Forest Classifcation"
   ]
  },
  {
   "cell_type": "markdown",
   "metadata": {},
   "source": [
    "Having cleaned and prepared the dataset accordingly, I am now able to move to the modelling phase. I will use a random forest classification model in order to predict the species of a given tree. As input features, I will use the physical characteristics tree trunk circumference, tree height, treetop diameter as well as the year in which the tree was planted and the district in Vienna where the tree can be found.\n",
    "\n",
    "To prepare my model, I assign the target feature (species) to the dependent variable y. The set of independent variables gets assigned to the vector X."
   ]
  },
  {
   "cell_type": "code",
   "execution_count": 120,
   "metadata": {},
   "outputs": [],
   "source": [
    "# Assigning target and input features to y and X, respectively.\n",
    "y = data_3['species']\n",
    "X = data_3[['year', 'district', 'trunk', 'height', 'top']]"
   ]
  },
  {
   "cell_type": "markdown",
   "metadata": {},
   "source": [
    "#### Train-Test Split"
   ]
  },
  {
   "cell_type": "markdown",
   "metadata": {},
   "source": [
    "As a next step, I split the data into two subsets, with one being used to train the model whereas the other one will be used for out of sample model performance evaluation."
   ]
  },
  {
   "cell_type": "code",
   "execution_count": 121,
   "metadata": {},
   "outputs": [],
   "source": [
    "# Splitting into train and test sample.\n",
    "X_train, X_test, y_train, y_test = train_test_split(X, y, test_size=0.2)"
   ]
  },
  {
   "cell_type": "code",
   "execution_count": 122,
   "metadata": {},
   "outputs": [
    {
     "data": {
      "text/plain": [
       "((31746, 5), (31746,))"
      ]
     },
     "execution_count": 122,
     "metadata": {},
     "output_type": "execute_result"
    }
   ],
   "source": [
    "# Checking dimensions.\n",
    "X_train.shape, y_train.shape"
   ]
  },
  {
   "cell_type": "code",
   "execution_count": 123,
   "metadata": {},
   "outputs": [
    {
     "data": {
      "text/plain": [
       "((7937, 5), (7937,))"
      ]
     },
     "execution_count": 123,
     "metadata": {},
     "output_type": "execute_result"
    }
   ],
   "source": [
    "# Checking dimesions.\n",
    "X_test.shape, y_test.shape"
   ]
  },
  {
   "cell_type": "markdown",
   "metadata": {},
   "source": [
    "#### Fitting Random Forest Classifier"
   ]
  },
  {
   "cell_type": "markdown",
   "metadata": {},
   "source": [
    "I can fit the random forest classifier to the training set now and predict the species of each tree in the testing sample by using the vector of input features of the testing sample."
   ]
  },
  {
   "cell_type": "code",
   "execution_count": 124,
   "metadata": {},
   "outputs": [
    {
     "data": {
      "text/plain": [
       "RandomForestClassifier(random_state=18)"
      ]
     },
     "execution_count": 124,
     "metadata": {},
     "output_type": "execute_result"
    }
   ],
   "source": [
    "# Fitting random forest classifier to training set.\n",
    "clf = RandomForestClassifier(random_state = 18)\n",
    "clf.fit(X_train, y_train)"
   ]
  },
  {
   "cell_type": "code",
   "execution_count": 125,
   "metadata": {},
   "outputs": [
    {
     "name": "stdout",
     "output_type": "stream",
     "text": [
      "['Acer platanoides (Spitzahorn)' 'Acer platanoides (Spitzahorn)'\n",
      " 'Acer platanoides (Spitzahorn)' ... 'Fraxinus excelsior (Gemeine Esche)'\n",
      " 'Acer platanoides (Spitzahorn)' 'Acer platanoides (Spitzahorn)']\n"
     ]
    }
   ],
   "source": [
    "# Predicting the species of the set used to test the out of sample model performance.\n",
    "prediction = clf.predict(X_test)\n",
    "print(prediction)"
   ]
  },
  {
   "cell_type": "markdown",
   "metadata": {},
   "source": [
    "#### Model Performance"
   ]
  },
  {
   "cell_type": "markdown",
   "metadata": {},
   "source": [
    "Finally, I calculate the accuracy, which measures the percentage of correctly predicted data points, and F1 score, which is a combination of the recall and precision metrics, to gauge the model performance. The accuracy score lands at just over 0.62, whereas the F1 score amounts to just under 0.62. These scores indicate a good start for this model, however, with significant room for improvement.\n",
    "\n",
    "In the following section, I will go into potential areas which could help improve the model and its performance."
   ]
  },
  {
   "cell_type": "code",
   "execution_count": 126,
   "metadata": {},
   "outputs": [
    {
     "data": {
      "text/plain": [
       "0.6217714501700895"
      ]
     },
     "execution_count": 126,
     "metadata": {},
     "output_type": "execute_result"
    }
   ],
   "source": [
    "# Accuracy\n",
    "accuracy_score(y_test, prediction)"
   ]
  },
  {
   "cell_type": "code",
   "execution_count": 127,
   "metadata": {},
   "outputs": [
    {
     "data": {
      "text/plain": [
       "0.615825316208563"
      ]
     },
     "execution_count": 127,
     "metadata": {},
     "output_type": "execute_result"
    }
   ],
   "source": [
    "# F1 score\n",
    "f1_score(y_test, prediction, average='weighted')"
   ]
  },
  {
   "cell_type": "markdown",
   "metadata": {},
   "source": [
    "## 4 Conclusion and Limitations"
   ]
  },
  {
   "cell_type": "markdown",
   "metadata": {},
   "source": [
    "In this project, I used a random forest classifier to build a model in order to predict the species of trees in Vienna. The model is able to perform these predictions by using physical characteristics such as tree height, treetop diameter, and trunk circumference, as well as the year of planting and the district of Vienna where the tree is located.\n",
    "\n",
    "The final model achieved a reasonable but improvable score both in terms of accuracy and F1 score. What could be done to improve this and what are the limitations of this project?"
   ]
  },
  {
   "cell_type": "markdown",
   "metadata": {},
   "source": [
    "#### Limitations"
   ]
  },
  {
   "cell_type": "markdown",
   "metadata": {},
   "source": [
    "Starting with the data quality, additional physical characteristics of these trees would be benefical. These might range from information about blooming cycles, leaf sizes and root structure. \n",
    "\n",
    "Perhaps even more importantly, more precise metrics would be helpful. Of the physical characterics only tree trunk circumference is measured in centimeters. Both tree top diameter and tree height are measured in larger categories (such as 0-5m, 6-10m, etc.). A more granular measure would likely improve modelling results. \n",
    "\n",
    "The assumption placed on the missing values in the year column (where missing values where assumed to be equal to 1975) places a limitation on this project.\n",
    "\n",
    "For future work, extending this model to cover more than the three most common tree species would be a promising avenue."
   ]
  }
 ],
 "metadata": {
  "kernelspec": {
   "display_name": "Python 3",
   "language": "python",
   "name": "python3"
  },
  "language_info": {
   "codemirror_mode": {
    "name": "ipython",
    "version": 3
   },
   "file_extension": ".py",
   "mimetype": "text/x-python",
   "name": "python",
   "nbconvert_exporter": "python",
   "pygments_lexer": "ipython3",
   "version": "3.8.3"
  }
 },
 "nbformat": 4,
 "nbformat_minor": 4
}
